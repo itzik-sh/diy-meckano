{
 "metadata": {
  "language_info": {
   "codemirror_mode": {
    "name": "ipython",
    "version": 3
   },
   "file_extension": ".py",
   "mimetype": "text/x-python",
   "name": "python",
   "nbconvert_exporter": "python",
   "pygments_lexer": "ipython3",
   "version": "3.8.3"
  },
  "orig_nbformat": 2,
  "kernelspec": {
   "name": "python38364bit91d8be47c6a7401fa2f3d2b1ba96b6a0",
   "display_name": "Python 3.8.3 64-bit"
  },
  "metadata": {
   "interpreter": {
    "hash": "a1d2fd4802266245dbd5341143d4f2a1d551ce93d3f2691ef91dfb883b3a925e"
   }
  }
 },
 "nbformat": 4,
 "nbformat_minor": 2,
 "cells": [
  {
   "cell_type": "code",
   "execution_count": 74,
   "metadata": {},
   "outputs": [
    {
     "output_type": "stream",
     "name": "stdout",
     "text": [
      "https://app.meckano.co.il/login.php#login\n",
      "\tweb title:  כניסה למערכת | Meckano - שעון נוכחות\n",
      "going to sleep\n",
      "waking up\n",
      "you're checked in\n",
      "<selenium.webdriver.remote.webelement.WebElement (session=\"0dec47db2f8119a8a3f8e7ae8b0074ce\", element=\"d8986924-31d5-4174-8ede-319894a1b6e5\")>\n"
     ]
    }
   ],
   "source": [
    "# from selenium.webdriver import Firefox\n",
    "# from selenium.webdriver.firefox.options import Options\n",
    "# from selenium import webdriver\n",
    "# driver = webdriver.Firefox(executable_path=r'your\\path\\geckodriver.exe')\n",
    "# driver.get('http://inventwithpython.com')\n",
    "# opts = Options()\n",
    "# opts.set_headless()\n",
    "# assert opts.headless  # Operating in headless mode\n",
    "# browser = Firefox(options=opts)\n",
    "# browser.get('https://duckduckgo.com')\n",
    "import selenium\n",
    "from selenium import webdriver\n",
    "from selenium.webdriver.common.keys import Keys\n",
    "import time\n",
    "PATH = \"C:\\Program Files (x86)\\chromedriver.exe\"\n",
    "\n",
    "conf = webdriver.ChromeOptions()\n",
    "conf.headless = True -1\n",
    "# driver = webdriver.Chrome(ChromeDriverManager().install())\n",
    "check_out_indication_ws_full_xpath = '/html/body/div[6]/div/div/div[1]/div[2]/div[2]/div/div[1]/div/div[2]/div[2]/a/div[2]'\n",
    "check_out_indication_ws_xpath = '//*[@id=\"checkout-button\"]/div[2]'\n",
    "check_out_indication_ws_selector = 'checkout-button > div.textOut'\n",
    "check_in_time_ws_xpath = '//*[@id=\"organizer\"]/div[2]/div/div[3]/div/div'\n",
    "# login_email_ws_xpath = //*[@id=\"email\"]\n",
    "driver = webdriver.Chrome(PATH, options = conf)\n",
    "driver.get(\"https://app.meckano.co.il/login.php#login\")\n",
    "print(driver.current_url)\n",
    "time.sleep(3)\n",
    "print(\"\\tweb title: \", driver.title)\n",
    "login_email_ws = driver.find_element_by_xpath('//*[@id=\"email\"]')\n",
    "\n",
    "# login_email_ws = driver.find_element_by_css_selector('')\n",
    "login_pass_ws = driver.find_element_by_xpath('//*[@id=\"password\"]')\n",
    "\n",
    "login_email_ws.send_keys(\"itzik.sherf@devalore.com\")\n",
    "login_pass_ws.send_keys(\"asu5umu\")\n",
    "login_pass_ws.send_keys(Keys.RETURN)\n",
    "print(\"going to sleep\")\n",
    "time.sleep(20)\n",
    "print(\"waking up\")\n",
    "\n",
    "\n",
    "try:\n",
    "    driver.find_element_by_css_selector(\"input[class='inputCheckInOut replace-to-checkin']\")\n",
    "    print(\"you're checked in\")\n",
    "    check_in_status_ws = driver.find_element_by_xpath(check_in_time_ws_xpath)\n",
    "    print(check_in_status_ws)\n",
    "except:\n",
    "    try:\n",
    "        driver.find_element_by_css_selector(\"input[class='inputCheckInOut replace-to-checkout']\")\n",
    "        print(\"you're checked out\")\n",
    "    except:\n",
    "        print(\"did not manage to scarp checkin/out status\")\n",
    "\n"
   ]
  },
  {
   "cell_type": "code",
   "execution_count": 78,
   "metadata": {},
   "outputs": [],
   "source": [
    "check_in_status_ws = driver.find_element_by_xpath(check_in_time_ws_xpath)"
   ]
  },
  {
   "cell_type": "code",
   "execution_count": 79,
   "metadata": {},
   "outputs": [],
   "source": [
    "t = check_in_status_ws.text"
   ]
  },
  {
   "cell_type": "code",
   "execution_count": 85,
   "metadata": {},
   "outputs": [
    {
     "output_type": "execute_result",
     "data": {
      "text/plain": [
       "'00:54'"
      ]
     },
     "metadata": {},
     "execution_count": 85
    }
   ],
   "source": [
    "t[-5:]"
   ]
  }
 ]
}